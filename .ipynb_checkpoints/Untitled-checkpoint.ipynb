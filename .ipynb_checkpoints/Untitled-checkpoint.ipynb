{
 "cells": [
  {
   "cell_type": "code",
   "execution_count": 36,
   "metadata": {},
   "outputs": [],
   "source": [
    "def f(x,R,V0,L,RES):\n",
    "    return (R*V0/((R**2 + 4*(L**2)*((RES+x)**2))**(1/2)))"
   ]
  },
  {
   "cell_type": "code",
   "execution_count": 37,
   "metadata": {},
   "outputs": [],
   "source": [
    "xdata = [469,\n",
    "472,\n",
    "475,\n",
    "478,\n",
    "481,\n",
    "484,\n",
    "487,\n",
    "490,\n",
    "493,\n",
    "496,\n",
    "499,\n",
    "502,\n",
    "505,\n",
    "508,\n",
    "511,\n",
    "514,\n",
    "517,\n",
    "520]"
   ]
  },
  {
   "cell_type": "code",
   "execution_count": 38,
   "metadata": {},
   "outputs": [],
   "source": [
    "ydata = [496,\n",
    "536,\n",
    "576,\n",
    "624,\n",
    "680,\n",
    "712,\n",
    "760,\n",
    "776,\n",
    "788,\n",
    "776,\n",
    "760,\n",
    "728,\n",
    "680,\n",
    "632,\n",
    "592,\n",
    "552,\n",
    "516,\n",
    "480]"
   ]
  },
  {
   "cell_type": "code",
   "execution_count": 39,
   "metadata": {},
   "outputs": [],
   "source": [
    "import scipy.optimize"
   ]
  },
  {
   "cell_type": "code",
   "execution_count": 41,
   "metadata": {},
   "outputs": [
    {
     "name": "stdout",
     "output_type": "stream",
     "text": [
      "(array([ 165.17386969,  788.57553598,    4.11710845, -493.41367736]), array([[  3.05211096e+15,   6.33734559e+07,   7.60766330e+13,\n",
      "         -1.21810039e+06],\n",
      "       [  6.33734571e+07,   6.59451381e+00,   1.57964095e+06,\n",
      "         -3.06181804e-02],\n",
      "       [  7.60766330e+13,   1.57964092e+06,   1.89627906e+12,\n",
      "         -3.03622569e+04],\n",
      "       [ -1.21810039e+06,  -3.06181799e-02,  -3.03622569e+04,\n",
      "          1.01932684e-02]]))\n"
     ]
    }
   ],
   "source": [
    "opt = scipy.optimize.curve_fit(f,xdata,ydata)\n",
    "print(opt)"
   ]
  },
  {
   "cell_type": "code",
   "execution_count": 42,
   "metadata": {},
   "outputs": [],
   "source": [
    "import numpy as np\n",
    "\n",
    "xweird = np.linspace(470,520,20)\n",
    "yweird = []\n",
    "ynormal = []\n",
    "for x in xweird:\n",
    "    yweird.append(f(x,opt[0][0],opt[0][1],opt[0][2],opt[0][3]))\n"
   ]
  },
  {
   "cell_type": "code",
   "execution_count": 43,
   "metadata": {},
   "outputs": [
    {
     "data": {
      "image/png": "[encoded data removed]",
      "text/plain": [
       "<matplotlib.figure.Figure at 0x7f99993f9898>"
      ]
     },
     "metadata": {},
     "output_type": "display_data"
    }
   ],
   "source": [
    "import matplotlib.pyplot as plt\n",
    "plt.plot(xdata,ydata)\n",
    "plt.plot(xweird,yweird)\n",
    "plt.show()"
   ]
  },
  {
   "cell_type": "code",
   "execution_count": null,
   "metadata": {},
   "outputs": [],
   "source": []
  }
 ],
 "metadata": {
  "kernelspec": {
   "display_name": "Python 3",
   "language": "python",
   "name": "python3"
  },
  "language_info": {
   "codemirror_mode": {
    "name": "ipython",
    "version": 3
   },
   "file_extension": ".py",
   "mimetype": "text/x-python",
   "name": "python",
   "nbconvert_exporter": "python",
   "pygments_lexer": "ipython3",
   "version": "3.5.2"
  }
 },
 "nbformat": 4,
 "nbformat_minor": 2
}
