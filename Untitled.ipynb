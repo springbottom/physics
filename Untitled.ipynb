{
 "cells": [
  {
   "cell_type": "code",
   "execution_count": 156,
   "metadata": {},
   "outputs": [],
   "source": [
    "import math\n",
    "\n",
    "def f(x,R,V0,L,RES):\n",
    "    return (R*V0/((R**2 + 4*(L**2)*((2*math.pi*RES+2*math.pi*x)**2))**(1/2)))\n",
    "\n",
    "def g(x,K):\n",
    "    ding = []\n",
    "    for xx in x:\n",
    "        ding.append(math.atan(xx*K))\n",
    "    return ding"
   ]
  },
  {
   "cell_type": "code",
   "execution_count": 157,
   "metadata": {},
   "outputs": [],
   "source": [
    "xdata = [469,\n",
    "472,\n",
    "475,\n",
    "478,\n",
    "481,\n",
    "484,\n",
    "487,\n",
    "490,\n",
    "493,\n",
    "496,\n",
    "499,\n",
    "502,\n",
    "505,\n",
    "508,\n",
    "511,\n",
    "514,\n",
    "517,\n",
    "520]"
   ]
  },
  {
   "cell_type": "code",
   "execution_count": 158,
   "metadata": {},
   "outputs": [],
   "source": [
    "ydata = [0.496,\n",
    "0.536,\n",
    "0.576,\n",
    "0.624,\n",
    "0.680,\n",
    "0.712,\n",
    "0.760,\n",
    "0.776,\n",
    "0.788,\n",
    "0.776,\n",
    "0.760,\n",
    "0.728,\n",
    "0.680,\n",
    "0.632,\n",
    "0.592,\n",
    "0.552,\n",
    "0.516,\n",
    "0.480]\n",
    "\n",
    "yydata = [-57,\n",
    "-53,\n",
    "-48,\n",
    "-42,\n",
    "-36,\n",
    "-28,\n",
    "-19,\n",
    "-10,\n",
    "-1,\n",
    "9.5,\n",
    "20,\n",
    "28,\n",
    "36.5,\n",
    "42,\n",
    "46,\n",
    "52,\n",
    "55,\n",
    "58]"
   ]
  },
  {
   "cell_type": "code",
   "execution_count": 159,
   "metadata": {},
   "outputs": [
    {
     "name": "stdout",
     "output_type": "stream",
     "text": [
      "[-150.79644737231007, -131.94689145077132, -113.09733552923255, -94.24777960769379, -75.39822368615503, -56.548667764616276, -37.69911184307752, -18.84955592153876, 0.0, 18.84955592153876, 37.69911184307752, 56.548667764616276, 75.39822368615503, 94.24777960769379, 113.09733552923255, 131.94689145077132, 150.79644737231007, 169.64600329384882] [-0.9948376736367678, -0.9250245035569946, -0.8377580409572781, -0.7330382858376184, -0.6283185307179586, -0.4886921905584123, -0.33161255787892263, -0.17453292519943295, -0.017453292519943295, 0.16580627893946132, 0.3490658503988659, 0.4886921905584123, 0.6370451769779303, 0.7330382858376184, 0.8028514559173915, 0.9075712110370513, 0.9599310885968813, 1.0122909661567112]\n"
     ]
    }
   ],
   "source": [
    "xxdata = xdata\n",
    "for xx in range(len(xxdata)):\n",
    "    xxdata[xx] = 2*math.pi*(xxdata[xx]-493)\n",
    "for yy in range(len(yydata)):\n",
    "    yydata[yy] = (yydata[yy]/180)*math.pi\n",
    "    \n",
    "print(xxdata,yydata)"
   ]
  },
  {
   "cell_type": "code",
   "execution_count": 160,
   "metadata": {},
   "outputs": [],
   "source": [
    "import scipy.optimize"
   ]
  },
  {
   "cell_type": "code",
   "execution_count": 161,
   "metadata": {},
   "outputs": [
    {
     "name": "stdout",
     "output_type": "stream",
     "text": [
      "(array([ 0.00960842]), array([[  5.40350274e-09]]))\n"
     ]
    }
   ],
   "source": [
    "oopt = scipy.optimize.curve_fit(g,xxdata,yydata,p0=[0.001])\n",
    "print(oopt)"
   ]
  },
  {
   "cell_type": "code",
   "execution_count": 164,
   "metadata": {},
   "outputs": [],
   "source": [
    "import numpy as np\n",
    "\n",
    "xweird = np.linspace(-300,300,20)\n",
    "yweird = []\n",
    "ynormal = []\n",
    "\n",
    "pto = [[184,0.770,1,-493]]\n",
    "\n",
    "yweird = g(xweird,oopt[0][0])\n"
   ]
  },
  {
   "cell_type": "code",
   "execution_count": 165,
   "metadata": {},
   "outputs": [
    {
     "data": {
      "image/png": "[encoded data removed]",
      "text/plain": [
       "<matplotlib.figure.Figure at 0x7f99993c9eb8>"
      ]
     },
     "metadata": {},
     "output_type": "display_data"
    }
   ],
   "source": [
    "import matplotlib.pyplot as plt\n",
    "plt.plot(xxdata,yydata)\n",
    "plt.plot(xweird,yweird)\n",
    "plt.show()"
   ]
  },
  {
   "cell_type": "code",
   "execution_count": null,
   "metadata": {},
   "outputs": [],
   "source": []
  }
 ],
 "metadata": {
  "kernelspec": {
   "display_name": "Python 3",
   "language": "python",
   "name": "python3"
  },
  "language_info": {
   "codemirror_mode": {
    "name": "ipython",
    "version": 3
   },
   "file_extension": ".py",
   "mimetype": "text/x-python",
   "name": "python",
   "nbconvert_exporter": "python",
   "pygments_lexer": "ipython3",
   "version": "3.5.2"
  }
 },
 "nbformat": 4,
 "nbformat_minor": 2
}
